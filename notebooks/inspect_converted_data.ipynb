{
 "cells": [
  {
   "cell_type": "code",
   "execution_count": 1,
   "metadata": {
    "tags": []
   },
   "outputs": [],
   "source": [
    "from pynwb import NWBHDF5IO\n",
    "from nwbwidgets import nwb2widget"
   ]
  },
  {
   "cell_type": "code",
   "execution_count": 2,
   "metadata": {
    "jupyter": {
     "outputs_hidden": false
    },
    "pycharm": {
     "name": "#%%\n"
    }
   },
   "outputs": [
    {
     "name": "stderr",
     "output_type": "stream",
     "text": [
      "C:\\Users\\sprince7\\Anaconda3\\envs\\singer-lab-to-nwb\\lib\\site-packages\\hdmf\\common\\table.py:442: UserWarning: An attribute 'name' already exists on DynamicTable 'electrodes' so this column cannot be accessed as an attribute, e.g., table.name; it can only be accessed using other methods, e.g., table['name'].\n",
      "  warn(msg)\n"
     ]
    }
   ],
   "source": [
    "# load the nwb files\n",
    "filename = '..//data//NWBFile//S25_210913.nwb'\n",
    "\n",
    "io = NWBHDF5IO(filename,'r')\n",
    "nwbfile = io.read()\n"
   ]
  },
  {
   "cell_type": "code",
   "execution_count": 3,
   "metadata": {
    "jupyter": {
     "outputs_hidden": false
    },
    "pycharm": {
     "name": "#%%\n"
    }
   },
   "outputs": [
    {
     "data": {
      "application/vnd.jupyter.widget-view+json": {
       "model_id": "6fa797f3ac774b2aa393b58854b65ae9",
       "version_major": 2,
       "version_minor": 0
      },
      "text/plain": [
       "VBox(children=(HBox(children=(Label(value='session_description:', layout=Layout(max_height='40px', max_width='…"
      ]
     },
     "metadata": {},
     "output_type": "display_data"
    }
   ],
   "source": [
    "nwb2widget(nwbfile)"
   ]
  },
  {
   "cell_type": "code",
   "execution_count": 4,
   "metadata": {},
   "outputs": [
    {
     "data": {
      "text/html": [
       "<div>\n",
       "<style scoped>\n",
       "    .dataframe tbody tr th:only-of-type {\n",
       "        vertical-align: middle;\n",
       "    }\n",
       "\n",
       "    .dataframe tbody tr th {\n",
       "        vertical-align: top;\n",
       "    }\n",
       "\n",
       "    .dataframe thead th {\n",
       "        text-align: right;\n",
       "    }\n",
       "</style>\n",
       "<table border=\"1\" class=\"dataframe\">\n",
       "  <thead>\n",
       "    <tr style=\"text-align: right;\">\n",
       "      <th></th>\n",
       "      <th>quality</th>\n",
       "      <th>Amplitude</th>\n",
       "      <th>ContamPct</th>\n",
       "      <th>KSLabel</th>\n",
       "      <th>spike_times</th>\n",
       "      <th>amplitudes</th>\n",
       "    </tr>\n",
       "    <tr>\n",
       "      <th>id</th>\n",
       "      <th></th>\n",
       "      <th></th>\n",
       "      <th></th>\n",
       "      <th></th>\n",
       "      <th></th>\n",
       "      <th></th>\n",
       "    </tr>\n",
       "  </thead>\n",
       "  <tbody>\n",
       "    <tr>\n",
       "      <th>1</th>\n",
       "      <td>good</td>\n",
       "      <td>65.0</td>\n",
       "      <td>29.1</td>\n",
       "      <td>mua</td>\n",
       "      <td>[0.783133, 6.3894, 6.906367, 8.429533, 9.74253...</td>\n",
       "      <td>[1.0, 1.0, 1.0, 1.0, 1.0, 1.0, 1.0, 1.0, 1.0, ...</td>\n",
       "    </tr>\n",
       "    <tr>\n",
       "      <th>2</th>\n",
       "      <td>good</td>\n",
       "      <td>82.6</td>\n",
       "      <td>0.0</td>\n",
       "      <td>good</td>\n",
       "      <td>[19.633867, 19.651433, 19.872533, 36.530967, 3...</td>\n",
       "      <td>[1.0, 1.0, 1.0, 1.0, 1.0, 1.0, 1.0, 1.0, 1.0, ...</td>\n",
       "    </tr>\n",
       "    <tr>\n",
       "      <th>3</th>\n",
       "      <td>good</td>\n",
       "      <td>66.4</td>\n",
       "      <td>4.1</td>\n",
       "      <td>good</td>\n",
       "      <td>[5.518, 10.1754, 11.901067, 11.942233, 11.9478...</td>\n",
       "      <td>[1.0, 1.0, 1.0, 1.0, 1.0, 1.0, 1.0, 1.0, 1.0, ...</td>\n",
       "    </tr>\n",
       "    <tr>\n",
       "      <th>4</th>\n",
       "      <td>good</td>\n",
       "      <td>63.3</td>\n",
       "      <td>19.2</td>\n",
       "      <td>mua</td>\n",
       "      <td>[2.720767, 2.7265, 12.644167, 24.1009, 38.8928...</td>\n",
       "      <td>[1.0, 1.0, 1.0, 1.0, 1.0, 1.0, 1.0, 1.0, 1.0, ...</td>\n",
       "    </tr>\n",
       "    <tr>\n",
       "      <th>5</th>\n",
       "      <td>good</td>\n",
       "      <td>99.4</td>\n",
       "      <td>5.5</td>\n",
       "      <td>good</td>\n",
       "      <td>[10.317833, 15.7145, 15.733167, 17.882733, 18....</td>\n",
       "      <td>[1.0, 1.0, 1.0, 1.0, 1.0, 1.0, 1.0, 1.0, 1.0, ...</td>\n",
       "    </tr>\n",
       "    <tr>\n",
       "      <th>...</th>\n",
       "      <td>...</td>\n",
       "      <td>...</td>\n",
       "      <td>...</td>\n",
       "      <td>...</td>\n",
       "      <td>...</td>\n",
       "      <td>...</td>\n",
       "    </tr>\n",
       "    <tr>\n",
       "      <th>111</th>\n",
       "      <td>good</td>\n",
       "      <td>68.7</td>\n",
       "      <td>4.3</td>\n",
       "      <td>good</td>\n",
       "      <td>[1.696433, 7.736567, 10.289967, 10.4479, 11.84...</td>\n",
       "      <td>[1.0, 1.0, 1.0, 1.0, 1.0, 1.0, 1.0, 1.0, 1.0, ...</td>\n",
       "    </tr>\n",
       "    <tr>\n",
       "      <th>116</th>\n",
       "      <td>good</td>\n",
       "      <td>77.6</td>\n",
       "      <td>0.0</td>\n",
       "      <td>good</td>\n",
       "      <td>[24.859233, 36.087, 37.403767, 38.105233, 40.0...</td>\n",
       "      <td>[1.0, 1.0, 1.0, 1.0, 1.0, 1.0, 1.0, 1.0, 1.0, ...</td>\n",
       "    </tr>\n",
       "    <tr>\n",
       "      <th>117</th>\n",
       "      <td>good</td>\n",
       "      <td>136.2</td>\n",
       "      <td>0.0</td>\n",
       "      <td>good</td>\n",
       "      <td>[8.268067]</td>\n",
       "      <td>[1.0]</td>\n",
       "    </tr>\n",
       "    <tr>\n",
       "      <th>118</th>\n",
       "      <td>good</td>\n",
       "      <td>57.7</td>\n",
       "      <td>19.0</td>\n",
       "      <td>mua</td>\n",
       "      <td>[0.0757, 0.113667, 0.152067, 0.339467, 3.61133...</td>\n",
       "      <td>[1.0, 1.0, 1.0, 1.0, 1.0, 1.0, 1.0, 1.0, 1.0, ...</td>\n",
       "    </tr>\n",
       "    <tr>\n",
       "      <th>119</th>\n",
       "      <td>good</td>\n",
       "      <td>75.9</td>\n",
       "      <td>0.0</td>\n",
       "      <td>good</td>\n",
       "      <td>[4.7509, 6.944633, 8.075533, 29.620367, 49.954...</td>\n",
       "      <td>[1.0, 1.0, 1.0, 1.0, 1.0, 1.0, 1.0, 1.0, 1.0, ...</td>\n",
       "    </tr>\n",
       "  </tbody>\n",
       "</table>\n",
       "<p>99 rows × 6 columns</p>\n",
       "</div>"
      ],
      "text/plain": [
       "    quality Amplitude ContamPct KSLabel  \\\n",
       "id                                        \n",
       "1      good      65.0      29.1     mua   \n",
       "2      good      82.6       0.0    good   \n",
       "3      good      66.4       4.1    good   \n",
       "4      good      63.3      19.2     mua   \n",
       "5      good      99.4       5.5    good   \n",
       "..      ...       ...       ...     ...   \n",
       "111    good      68.7       4.3    good   \n",
       "116    good      77.6       0.0    good   \n",
       "117    good     136.2       0.0    good   \n",
       "118    good      57.7      19.0     mua   \n",
       "119    good      75.9       0.0    good   \n",
       "\n",
       "                                           spike_times  \\\n",
       "id                                                       \n",
       "1    [0.783133, 6.3894, 6.906367, 8.429533, 9.74253...   \n",
       "2    [19.633867, 19.651433, 19.872533, 36.530967, 3...   \n",
       "3    [5.518, 10.1754, 11.901067, 11.942233, 11.9478...   \n",
       "4    [2.720767, 2.7265, 12.644167, 24.1009, 38.8928...   \n",
       "5    [10.317833, 15.7145, 15.733167, 17.882733, 18....   \n",
       "..                                                 ...   \n",
       "111  [1.696433, 7.736567, 10.289967, 10.4479, 11.84...   \n",
       "116  [24.859233, 36.087, 37.403767, 38.105233, 40.0...   \n",
       "117                                         [8.268067]   \n",
       "118  [0.0757, 0.113667, 0.152067, 0.339467, 3.61133...   \n",
       "119  [4.7509, 6.944633, 8.075533, 29.620367, 49.954...   \n",
       "\n",
       "                                            amplitudes  \n",
       "id                                                      \n",
       "1    [1.0, 1.0, 1.0, 1.0, 1.0, 1.0, 1.0, 1.0, 1.0, ...  \n",
       "2    [1.0, 1.0, 1.0, 1.0, 1.0, 1.0, 1.0, 1.0, 1.0, ...  \n",
       "3    [1.0, 1.0, 1.0, 1.0, 1.0, 1.0, 1.0, 1.0, 1.0, ...  \n",
       "4    [1.0, 1.0, 1.0, 1.0, 1.0, 1.0, 1.0, 1.0, 1.0, ...  \n",
       "5    [1.0, 1.0, 1.0, 1.0, 1.0, 1.0, 1.0, 1.0, 1.0, ...  \n",
       "..                                                 ...  \n",
       "111  [1.0, 1.0, 1.0, 1.0, 1.0, 1.0, 1.0, 1.0, 1.0, ...  \n",
       "116  [1.0, 1.0, 1.0, 1.0, 1.0, 1.0, 1.0, 1.0, 1.0, ...  \n",
       "117                                              [1.0]  \n",
       "118  [1.0, 1.0, 1.0, 1.0, 1.0, 1.0, 1.0, 1.0, 1.0, ...  \n",
       "119  [1.0, 1.0, 1.0, 1.0, 1.0, 1.0, 1.0, 1.0, 1.0, ...  \n",
       "\n",
       "[99 rows x 6 columns]"
      ]
     },
     "execution_count": 4,
     "metadata": {},
     "output_type": "execute_result"
    }
   ],
   "source": [
    "nwbfile.units.to_dataframe()"
   ]
  },
  {
   "cell_type": "code",
   "execution_count": null,
   "metadata": {},
   "outputs": [],
   "source": []
  }
 ],
 "metadata": {
  "kernelspec": {
   "display_name": "singer-lab-to-nwb-kernel",
   "language": "python",
   "name": "singer-lab-to-nwb-kernel"
  },
  "language_info": {
   "codemirror_mode": {
    "name": "ipython",
    "version": 3
   },
   "file_extension": ".py",
   "mimetype": "text/x-python",
   "name": "python",
   "nbconvert_exporter": "python",
   "pygments_lexer": "ipython3",
   "version": "3.7.11"
  }
 },
 "nbformat": 4,
 "nbformat_minor": 4
}
